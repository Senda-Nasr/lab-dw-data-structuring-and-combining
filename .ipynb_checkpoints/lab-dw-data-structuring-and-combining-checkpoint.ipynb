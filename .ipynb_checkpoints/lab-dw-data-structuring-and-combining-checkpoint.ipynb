{
 "cells": [
  {
   "cell_type": "markdown",
   "id": "25d7736c-ba17-4aff-b6bb-66eba20fbf4e",
   "metadata": {
    "id": "25d7736c-ba17-4aff-b6bb-66eba20fbf4e"
   },
   "source": [
    "# Lab | Data Structuring and Combining Data"
   ]
  },
  {
   "cell_type": "markdown",
   "id": "a2cdfc70-44c8-478c-81e7-2bc43fdf4986",
   "metadata": {
    "id": "a2cdfc70-44c8-478c-81e7-2bc43fdf4986"
   },
   "source": [
    "## Challenge 1: Combining & Cleaning Data\n",
    "\n",
    "In this challenge, we will be working with the customer data from an insurance company, as we did in the two previous labs. The data can be found here:\n",
    "- https://raw.githubusercontent.com/data-bootcamp-v4/data/main/file1.csv\n",
    "\n",
    "But this time, we got new data, which can be found in the following 2 CSV files located at the links below.\n",
    "\n",
    "- https://raw.githubusercontent.com/data-bootcamp-v4/data/main/file2.csv\n",
    "- https://raw.githubusercontent.com/data-bootcamp-v4/data/main/file3.csv\n",
    "\n",
    "Note that you'll need to clean and format the new data.\n",
    "\n",
    "Observation:\n",
    "- One option is to first combine the three datasets and then apply the cleaning function to the new combined dataset\n",
    "- Another option would be to read the clean file you saved in the previous lab, and just clean the two new files and concatenate the three clean datasets"
   ]
  },
  {
   "cell_type": "code",
   "execution_count": 1,
   "id": "492d06e3-92c7-4105-ac72-536db98d3244",
   "metadata": {
    "id": "492d06e3-92c7-4105-ac72-536db98d3244"
   },
   "outputs": [
    {
     "data": {
      "text/plain": [
       "customer                     0\n",
       "state                        0\n",
       "gender                       5\n",
       "education                    0\n",
       "customer_lifetime_value      4\n",
       "income                       0\n",
       "monthly_premium_auto         0\n",
       "number_of_open_complaints    0\n",
       "total_claim_amount           0\n",
       "policy_type                  0\n",
       "vehicle_class                0\n",
       "dtype: int64"
      ]
     },
     "metadata": {},
     "output_type": "display_data"
    },
    {
     "data": {
      "text/html": [
       "<div>\n",
       "<style scoped>\n",
       "    .dataframe tbody tr th:only-of-type {\n",
       "        vertical-align: middle;\n",
       "    }\n",
       "\n",
       "    .dataframe tbody tr th {\n",
       "        vertical-align: top;\n",
       "    }\n",
       "\n",
       "    .dataframe thead th {\n",
       "        text-align: right;\n",
       "    }\n",
       "</style>\n",
       "<table border=\"1\" class=\"dataframe\">\n",
       "  <thead>\n",
       "    <tr style=\"text-align: right;\">\n",
       "      <th></th>\n",
       "      <th>customer</th>\n",
       "      <th>state</th>\n",
       "      <th>gender</th>\n",
       "      <th>education</th>\n",
       "      <th>customer_lifetime_value</th>\n",
       "      <th>income</th>\n",
       "      <th>monthly_premium_auto</th>\n",
       "      <th>number_of_open_complaints</th>\n",
       "      <th>total_claim_amount</th>\n",
       "      <th>policy_type</th>\n",
       "      <th>vehicle_class</th>\n",
       "    </tr>\n",
       "  </thead>\n",
       "  <tbody>\n",
       "    <tr>\n",
       "      <th>167</th>\n",
       "      <td>DH41343</td>\n",
       "      <td>Washington</td>\n",
       "      <td>NaN</td>\n",
       "      <td>College</td>\n",
       "      <td>2444.0</td>\n",
       "      <td>92834</td>\n",
       "      <td>61</td>\n",
       "      <td>0</td>\n",
       "      <td>293</td>\n",
       "      <td>Special Auto</td>\n",
       "      <td>Four-Door Car</td>\n",
       "    </tr>\n",
       "    <tr>\n",
       "      <th>228</th>\n",
       "      <td>AO98601</td>\n",
       "      <td>Washington</td>\n",
       "      <td>NaN</td>\n",
       "      <td>Bachelor</td>\n",
       "      <td>5019.0</td>\n",
       "      <td>54500</td>\n",
       "      <td>63</td>\n",
       "      <td>0</td>\n",
       "      <td>302</td>\n",
       "      <td>Corporate Auto</td>\n",
       "      <td>Two-Door Car</td>\n",
       "    </tr>\n",
       "    <tr>\n",
       "      <th>257</th>\n",
       "      <td>XR95069</td>\n",
       "      <td>Washington</td>\n",
       "      <td>NaN</td>\n",
       "      <td>Bachelor</td>\n",
       "      <td>4855.0</td>\n",
       "      <td>29834</td>\n",
       "      <td>6464</td>\n",
       "      <td>0</td>\n",
       "      <td>307</td>\n",
       "      <td>Personal Auto</td>\n",
       "      <td>Four-Door Car</td>\n",
       "    </tr>\n",
       "    <tr>\n",
       "      <th>372</th>\n",
       "      <td>HF88410</td>\n",
       "      <td>Washington</td>\n",
       "      <td>NaN</td>\n",
       "      <td>High School or Below</td>\n",
       "      <td>NaN</td>\n",
       "      <td>36765</td>\n",
       "      <td>66</td>\n",
       "      <td>1</td>\n",
       "      <td>321</td>\n",
       "      <td>Personal Auto</td>\n",
       "      <td>Four-Door Car</td>\n",
       "    </tr>\n",
       "    <tr>\n",
       "      <th>980</th>\n",
       "      <td>SV62436</td>\n",
       "      <td>Washington</td>\n",
       "      <td>NaN</td>\n",
       "      <td>Bachelor</td>\n",
       "      <td>3042.0</td>\n",
       "      <td>13789</td>\n",
       "      <td>79</td>\n",
       "      <td>0</td>\n",
       "      <td>379</td>\n",
       "      <td>Personal Auto</td>\n",
       "      <td>Four-Door Car</td>\n",
       "    </tr>\n",
       "  </tbody>\n",
       "</table>\n",
       "</div>"
      ],
      "text/plain": [
       "    customer       state gender             education  \\\n",
       "167  DH41343  Washington    NaN               College   \n",
       "228  AO98601  Washington    NaN              Bachelor   \n",
       "257  XR95069  Washington    NaN              Bachelor   \n",
       "372  HF88410  Washington    NaN  High School or Below   \n",
       "980  SV62436  Washington    NaN              Bachelor   \n",
       "\n",
       "     customer_lifetime_value  income  monthly_premium_auto  \\\n",
       "167                   2444.0   92834                    61   \n",
       "228                   5019.0   54500                    63   \n",
       "257                   4855.0   29834                  6464   \n",
       "372                      NaN   36765                    66   \n",
       "980                   3042.0   13789                    79   \n",
       "\n",
       "     number_of_open_complaints  total_claim_amount     policy_type  \\\n",
       "167                          0                 293    Special Auto   \n",
       "228                          0                 302  Corporate Auto   \n",
       "257                          0                 307   Personal Auto   \n",
       "372                          1                 321   Personal Auto   \n",
       "980                          0                 379   Personal Auto   \n",
       "\n",
       "     vehicle_class  \n",
       "167  Four-Door Car  \n",
       "228   Two-Door Car  \n",
       "257  Four-Door Car  \n",
       "372  Four-Door Car  \n",
       "980  Four-Door Car  "
      ]
     },
     "metadata": {},
     "output_type": "display_data"
    },
    {
     "data": {
      "text/html": [
       "<div>\n",
       "<style scoped>\n",
       "    .dataframe tbody tr th:only-of-type {\n",
       "        vertical-align: middle;\n",
       "    }\n",
       "\n",
       "    .dataframe tbody tr th {\n",
       "        vertical-align: top;\n",
       "    }\n",
       "\n",
       "    .dataframe thead th {\n",
       "        text-align: right;\n",
       "    }\n",
       "</style>\n",
       "<table border=\"1\" class=\"dataframe\">\n",
       "  <thead>\n",
       "    <tr style=\"text-align: right;\">\n",
       "      <th></th>\n",
       "      <th>customer</th>\n",
       "      <th>state</th>\n",
       "      <th>gender</th>\n",
       "      <th>education</th>\n",
       "      <th>customer_lifetime_value</th>\n",
       "      <th>income</th>\n",
       "      <th>monthly_premium_auto</th>\n",
       "      <th>number_of_open_complaints</th>\n",
       "      <th>total_claim_amount</th>\n",
       "      <th>policy_type</th>\n",
       "      <th>vehicle_class</th>\n",
       "    </tr>\n",
       "  </thead>\n",
       "  <tbody>\n",
       "    <tr>\n",
       "      <th>325</th>\n",
       "      <td>RI52095</td>\n",
       "      <td>Washington</td>\n",
       "      <td>M</td>\n",
       "      <td>High School or Below</td>\n",
       "      <td>NaN</td>\n",
       "      <td>51878</td>\n",
       "      <td>66</td>\n",
       "      <td>1</td>\n",
       "      <td>317</td>\n",
       "      <td>Personal Auto</td>\n",
       "      <td>Four-Door Car</td>\n",
       "    </tr>\n",
       "    <tr>\n",
       "      <th>372</th>\n",
       "      <td>HF88410</td>\n",
       "      <td>Washington</td>\n",
       "      <td>NaN</td>\n",
       "      <td>High School or Below</td>\n",
       "      <td>NaN</td>\n",
       "      <td>36765</td>\n",
       "      <td>66</td>\n",
       "      <td>1</td>\n",
       "      <td>321</td>\n",
       "      <td>Personal Auto</td>\n",
       "      <td>Four-Door Car</td>\n",
       "    </tr>\n",
       "    <tr>\n",
       "      <th>580</th>\n",
       "      <td>MW80236</td>\n",
       "      <td>Washington</td>\n",
       "      <td>M</td>\n",
       "      <td>Master</td>\n",
       "      <td>NaN</td>\n",
       "      <td>0</td>\n",
       "      <td>70</td>\n",
       "      <td>0</td>\n",
       "      <td>336</td>\n",
       "      <td>Personal Auto</td>\n",
       "      <td>Four-Door Car</td>\n",
       "    </tr>\n",
       "    <tr>\n",
       "      <th>861</th>\n",
       "      <td>TO60700</td>\n",
       "      <td>Washington</td>\n",
       "      <td>F</td>\n",
       "      <td>Bachelor</td>\n",
       "      <td>NaN</td>\n",
       "      <td>25859</td>\n",
       "      <td>74</td>\n",
       "      <td>0</td>\n",
       "      <td>355</td>\n",
       "      <td>Special Auto</td>\n",
       "      <td>Four-Door Car</td>\n",
       "    </tr>\n",
       "  </tbody>\n",
       "</table>\n",
       "</div>"
      ],
      "text/plain": [
       "    customer       state gender             education  \\\n",
       "325  RI52095  Washington      M  High School or Below   \n",
       "372  HF88410  Washington    NaN  High School or Below   \n",
       "580  MW80236  Washington      M                Master   \n",
       "861  TO60700  Washington      F              Bachelor   \n",
       "\n",
       "     customer_lifetime_value  income  monthly_premium_auto  \\\n",
       "325                      NaN   51878                    66   \n",
       "372                      NaN   36765                    66   \n",
       "580                      NaN       0                    70   \n",
       "861                      NaN   25859                    74   \n",
       "\n",
       "     number_of_open_complaints  total_claim_amount    policy_type  \\\n",
       "325                          1                 317  Personal Auto   \n",
       "372                          1                 321  Personal Auto   \n",
       "580                          0                 336  Personal Auto   \n",
       "861                          0                 355   Special Auto   \n",
       "\n",
       "     vehicle_class  \n",
       "325  Four-Door Car  \n",
       "372  Four-Door Car  \n",
       "580  Four-Door Car  \n",
       "861  Four-Door Car  "
      ]
     },
     "metadata": {},
     "output_type": "display_data"
    },
    {
     "data": {
      "text/plain": [
       "customer                     0\n",
       "state                        0\n",
       "gender                       0\n",
       "education                    0\n",
       "customer_lifetime_value      0\n",
       "income                       0\n",
       "monthly_premium_auto         0\n",
       "number_of_open_complaints    0\n",
       "total_claim_amount           0\n",
       "policy_type                  0\n",
       "vehicle_class                0\n",
       "dtype: int64"
      ]
     },
     "metadata": {},
     "output_type": "display_data"
    },
    {
     "name": "stdout",
     "output_type": "stream",
     "text": [
      "<class 'pandas.core.frame.DataFrame'>\n",
      "Index: 988 entries, 0 to 995\n",
      "Data columns (total 11 columns):\n",
      " #   Column                     Non-Null Count  Dtype  \n",
      "---  ------                     --------------  -----  \n",
      " 0   customer                   988 non-null    object \n",
      " 1   state                      988 non-null    object \n",
      " 2   gender                     988 non-null    object \n",
      " 3   education                  988 non-null    object \n",
      " 4   customer_lifetime_value    988 non-null    float64\n",
      " 5   income                     988 non-null    int64  \n",
      " 6   monthly_premium_auto       988 non-null    int64  \n",
      " 7   number_of_open_complaints  988 non-null    int64  \n",
      " 8   total_claim_amount         988 non-null    int64  \n",
      " 9   policy_type                988 non-null    object \n",
      " 10  vehicle_class              988 non-null    object \n",
      "dtypes: float64(1), int64(4), object(6)\n",
      "memory usage: 92.6+ KB\n"
     ]
    },
    {
     "data": {
      "text/plain": [
       "None"
      ]
     },
     "metadata": {},
     "output_type": "display_data"
    },
    {
     "name": "stdout",
     "output_type": "stream",
     "text": [
      "<class 'pandas.core.frame.DataFrame'>\n",
      "Index: 988 entries, 0 to 995\n",
      "Data columns (total 11 columns):\n",
      " #   Column                     Non-Null Count  Dtype \n",
      "---  ------                     --------------  ----- \n",
      " 0   customer                   988 non-null    object\n",
      " 1   state                      988 non-null    object\n",
      " 2   gender                     988 non-null    object\n",
      " 3   education                  988 non-null    object\n",
      " 4   customer_lifetime_value    988 non-null    int64 \n",
      " 5   income                     988 non-null    int64 \n",
      " 6   monthly_premium_auto       988 non-null    int64 \n",
      " 7   number_of_open_complaints  988 non-null    int64 \n",
      " 8   total_claim_amount         988 non-null    int64 \n",
      " 9   policy_type                988 non-null    object\n",
      " 10  vehicle_class              988 non-null    object\n",
      "dtypes: int64(5), object(6)\n",
      "memory usage: 92.6+ KB\n",
      "<class 'pandas.core.frame.DataFrame'>\n",
      "Index: 9126 entries, 0 to 7069\n",
      "Data columns (total 11 columns):\n",
      " #   Column                     Non-Null Count  Dtype \n",
      "---  ------                     --------------  ----- \n",
      " 0   customer                   9126 non-null   object\n",
      " 1   state                      9126 non-null   object\n",
      " 2   gender                     9126 non-null   object\n",
      " 3   education                  9126 non-null   object\n",
      " 4   customer_lifetime_value    9126 non-null   int64 \n",
      " 5   income                     9126 non-null   int64 \n",
      " 6   monthly_premium_auto       9126 non-null   int64 \n",
      " 7   number_of_open_complaints  9126 non-null   int64 \n",
      " 8   policy_type                9126 non-null   object\n",
      " 9   vehicle_class              9126 non-null   object\n",
      " 10  total_claim_amount         9126 non-null   int64 \n",
      "dtypes: int64(5), object(6)\n",
      "memory usage: 855.6+ KB\n"
     ]
    },
    {
     "data": {
      "text/plain": [
       "None"
      ]
     },
     "metadata": {},
     "output_type": "display_data"
    },
    {
     "data": {
      "text/plain": [
       "44"
      ]
     },
     "metadata": {},
     "output_type": "display_data"
    },
    {
     "data": {
      "text/plain": [
       "0"
      ]
     },
     "execution_count": 1,
     "metadata": {},
     "output_type": "execute_result"
    }
   ],
   "source": [
    "import pandas as pd\n",
    "import functions\n",
    "\n",
    "df1_cleaned= pd.read_csv('D:/IronHack/Data_Analytics/Week_1/Day_3/Afternoon/lab-dw-data-cleaning-and-formatting/file1_clean.csv')\n",
    "df1_cleaned.head()\n",
    "\n",
    "df2= pd.read_csv('https://raw.githubusercontent.com/data-bootcamp-v4/data/main/file2.csv')\n",
    "df3= pd.read_csv('https://raw.githubusercontent.com/data-bootcamp-v4/data/main/file3.csv')\n",
    "\n",
    "df2_cleaned= functions.clean_insurance_company_dataframe(df2)\n",
    "df3_cleaned= functions.clean_insurance_company_dataframe(df3)\n",
    "\n",
    "\n",
    "display(df2_cleaned.isnull().sum())\n",
    "\n",
    "#the gender column has 5 missing values, which is only 0.5% of the data, so i will drop these rows\n",
    "#the customer lifetime value also has only 4 missing values, so i will drop these rows too\n",
    "\n",
    "display(df2_cleaned[(df2_cleaned['gender'].isnull())])\n",
    "display(df2_cleaned[(df2_cleaned['customer_lifetime_value'].isnull())])\n",
    "\n",
    "df2_cleaned = df2_cleaned.dropna(subset=['customer_lifetime_value'])  #dropping null values in customer lifetimme value column\n",
    "df2_cleaned = df2_cleaned.dropna(subset=['gender']) #dropping nulll values in gender column\n",
    "\n",
    "display(df2_cleaned.isnull().sum()) #no more null values in the dataframe\n",
    "\n",
    "display(df2_cleaned.info())\n",
    "df2_cleaned= functions.all_num_to_int(df2_cleaned) #calling the all_num_to_int function as the customer_lifetime_value column had NaNs and was therefore not converted to int\n",
    "df2_cleaned.info() # now we have 5 integer columns, the same applies for the other 2 dataframes\n",
    "\n",
    "\n",
    "dfcombined= pd.concat([df1_cleaned, df2_cleaned, df3_cleaned], axis=0)\n",
    "display(dfcombined.info()) #checking that there are no null values\n",
    "display(dfcombined.duplicated().sum()) #checking the duplicated rows. found 44 rows that need to be removed\n",
    "dfcombined_cleaned= functions.clean_insurance_company_dataframe(dfcombined) #cleaned the combined dataframe again\n",
    "dfcombined_cleaned.duplicated().sum() #checking if all duplicates have been removed. They have been removed"
   ]
  },
  {
   "cell_type": "markdown",
   "id": "31b8a9e7-7db9-4604-991b-ef6771603e57",
   "metadata": {
    "id": "31b8a9e7-7db9-4604-991b-ef6771603e57"
   },
   "source": [
    "# Challenge 2: Structuring Data"
   ]
  },
  {
   "cell_type": "markdown",
   "id": "a877fd6d-7a0c-46d2-9657-f25036e4ca4b",
   "metadata": {
    "id": "a877fd6d-7a0c-46d2-9657-f25036e4ca4b"
   },
   "source": [
    "In this challenge, we will continue to work with customer data from an insurance company, but we will use a dataset with more columns, called marketing_customer_analysis.csv, which can be found at the following link:\n",
    "\n",
    "https://raw.githubusercontent.com/data-bootcamp-v4/data/main/marketing_customer_analysis_clean.csv\n",
    "\n",
    "This dataset contains information such as customer demographics, policy details, vehicle information, and the customer's response to the last marketing campaign. Our goal is to explore and analyze this data by performing data cleaning, formatting, and structuring."
   ]
  },
  {
   "cell_type": "code",
   "execution_count": 2,
   "id": "aa10d9b0-1c27-4d3f-a8e4-db6ab73bfd26",
   "metadata": {
    "id": "aa10d9b0-1c27-4d3f-a8e4-db6ab73bfd26"
   },
   "outputs": [
    {
     "data": {
      "text/plain": [
       "unnamed:_0\n",
       "0        1\n",
       "7276     1\n",
       "7268     1\n",
       "7269     1\n",
       "7270     1\n",
       "        ..\n",
       "3638     1\n",
       "3639     1\n",
       "3640     1\n",
       "3641     1\n",
       "10909    1\n",
       "Name: count, Length: 10910, dtype: int64"
      ]
     },
     "metadata": {},
     "output_type": "display_data"
    },
    {
     "data": {
      "text/plain": [
       "customer\n",
       "ID89933    7\n",
       "DQ50258    5\n",
       "AM79057    5\n",
       "FP86246    5\n",
       "KE35335    4\n",
       "          ..\n",
       "VW27730    1\n",
       "ZX64745    1\n",
       "CK24264    1\n",
       "IX18485    1\n",
       "WA60547    1\n",
       "Name: count, Length: 9134, dtype: int64"
      ]
     },
     "metadata": {},
     "output_type": "display_data"
    },
    {
     "data": {
      "text/plain": [
       "state\n",
       "California    4183\n",
       "Oregon        2909\n",
       "Arizona       1937\n",
       "Nevada         993\n",
       "Washington     888\n",
       "Name: count, dtype: int64"
      ]
     },
     "metadata": {},
     "output_type": "display_data"
    },
    {
     "data": {
      "text/plain": [
       "customer_lifetime_value\n",
       "7507.455372     11\n",
       "5504.139033     11\n",
       "5181.620895     10\n",
       "13727.799720    10\n",
       "5332.462694     10\n",
       "                ..\n",
       "3467.323976      1\n",
       "14140.558850     1\n",
       "20018.204590     1\n",
       "7432.299921      1\n",
       "11971.977650     1\n",
       "Name: count, Length: 8041, dtype: int64"
      ]
     },
     "metadata": {},
     "output_type": "display_data"
    },
    {
     "data": {
      "text/plain": [
       "response\n",
       "No     9444\n",
       "Yes    1466\n",
       "Name: count, dtype: int64"
      ]
     },
     "metadata": {},
     "output_type": "display_data"
    },
    {
     "data": {
      "text/plain": [
       "coverage\n",
       "Basic       6660\n",
       "Extended    3265\n",
       "Premium      985\n",
       "Name: count, dtype: int64"
      ]
     },
     "metadata": {},
     "output_type": "display_data"
    },
    {
     "data": {
      "text/plain": [
       "education\n",
       "Bachelor                3272\n",
       "College                 3204\n",
       "High School or Below    3146\n",
       "Master                   887\n",
       "Doctor                   401\n",
       "Name: count, dtype: int64"
      ]
     },
     "metadata": {},
     "output_type": "display_data"
    },
    {
     "data": {
      "text/plain": [
       "effective_to_date\n",
       "2011-01-10    239\n",
       "2011-01-27    239\n",
       "2011-01-31    224\n",
       "2011-01-17    221\n",
       "2011-02-14    221\n",
       "2011-01-26    220\n",
       "2011-01-03    216\n",
       "2011-01-19    212\n",
       "2011-02-27    205\n",
       "2011-01-28    203\n",
       "2011-02-26    202\n",
       "2011-01-20    201\n",
       "2011-01-21    199\n",
       "2011-02-04    198\n",
       "2011-02-07    197\n",
       "2011-02-19    196\n",
       "2011-02-03    195\n",
       "2011-01-11    195\n",
       "2011-01-05    193\n",
       "2011-02-28    192\n",
       "2011-02-22    191\n",
       "2011-01-02    191\n",
       "2011-02-18    186\n",
       "2011-02-10    186\n",
       "2011-02-11    184\n",
       "2011-01-23    184\n",
       "2011-02-12    183\n",
       "2011-01-18    183\n",
       "2011-02-25    183\n",
       "2011-01-08    182\n",
       "2011-01-29    182\n",
       "2011-01-09    182\n",
       "2011-02-05    181\n",
       "2011-02-01    181\n",
       "2011-02-02    181\n",
       "2011-02-09    180\n",
       "2011-01-14    180\n",
       "2011-01-24    179\n",
       "2011-02-21    178\n",
       "2011-01-07    178\n",
       "2011-02-23    176\n",
       "2011-01-30    173\n",
       "2011-01-15    172\n",
       "2011-01-16    172\n",
       "2011-01-13    171\n",
       "2011-01-01    171\n",
       "2011-02-06    171\n",
       "2011-01-25    168\n",
       "2011-02-13    168\n",
       "2011-02-16    167\n",
       "2011-02-24    162\n",
       "2011-02-17    162\n",
       "2011-01-06    161\n",
       "2011-02-20    156\n",
       "2011-02-15    155\n",
       "2011-02-08    155\n",
       "2011-01-22    148\n",
       "2011-01-12    148\n",
       "2011-01-04    131\n",
       "Name: count, dtype: int64"
      ]
     },
     "metadata": {},
     "output_type": "display_data"
    },
    {
     "data": {
      "text/plain": [
       "employmentstatus\n",
       "Employed         6789\n",
       "Unemployed       2787\n",
       "Medical Leave     504\n",
       "Disabled          499\n",
       "Retired           331\n",
       "Name: count, dtype: int64"
      ]
     },
     "metadata": {},
     "output_type": "display_data"
    },
    {
     "data": {
      "text/plain": [
       "gender\n",
       "F    5573\n",
       "M    5337\n",
       "Name: count, dtype: int64"
      ]
     },
     "metadata": {},
     "output_type": "display_data"
    },
    {
     "data": {
      "text/plain": [
       "income\n",
       "0        2787\n",
       "95697      15\n",
       "60920      11\n",
       "68931      10\n",
       "11432      10\n",
       "         ... \n",
       "45310       1\n",
       "88055       1\n",
       "74606       1\n",
       "88043       1\n",
       "64195       1\n",
       "Name: count, Length: 5694, dtype: int64"
      ]
     },
     "metadata": {},
     "output_type": "display_data"
    },
    {
     "data": {
      "text/plain": [
       "location_code\n",
       "Suburban    6902\n",
       "Rural       2116\n",
       "Urban       1892\n",
       "Name: count, dtype: int64"
      ]
     },
     "metadata": {},
     "output_type": "display_data"
    },
    {
     "data": {
      "text/plain": [
       "marital_status\n",
       "Married     6319\n",
       "Single      2958\n",
       "Divorced    1633\n",
       "Name: count, dtype: int64"
      ]
     },
     "metadata": {},
     "output_type": "display_data"
    },
    {
     "data": {
      "text/plain": [
       "monthly_premium_auto\n",
       "65     419\n",
       "66     371\n",
       "71     368\n",
       "73     363\n",
       "63     345\n",
       "      ... \n",
       "163      1\n",
       "178      1\n",
       "287      1\n",
       "228      1\n",
       "203      1\n",
       "Name: count, Length: 202, dtype: int64"
      ]
     },
     "metadata": {},
     "output_type": "display_data"
    },
    {
     "data": {
      "text/plain": [
       "months_since_last_claim\n",
       "15.149071    633\n",
       "3.000000     426\n",
       "6.000000     394\n",
       "1.000000     386\n",
       "7.000000     378\n",
       "4.000000     373\n",
       "2.000000     368\n",
       "5.000000     355\n",
       "0.000000     354\n",
       "10.000000    346\n",
       "16.000000    333\n",
       "11.000000    331\n",
       "15.000000    323\n",
       "13.000000    320\n",
       "8.000000     315\n",
       "12.000000    307\n",
       "17.000000    299\n",
       "14.000000    299\n",
       "9.000000     277\n",
       "19.000000    276\n",
       "23.000000    276\n",
       "25.000000    269\n",
       "21.000000    267\n",
       "18.000000    257\n",
       "20.000000    254\n",
       "22.000000    246\n",
       "24.000000    237\n",
       "29.000000    234\n",
       "28.000000    227\n",
       "31.000000    221\n",
       "26.000000    211\n",
       "27.000000    208\n",
       "30.000000    201\n",
       "34.000000    199\n",
       "33.000000    198\n",
       "35.000000    157\n",
       "32.000000    155\n",
       "Name: count, dtype: int64"
      ]
     },
     "metadata": {},
     "output_type": "display_data"
    },
    {
     "data": {
      "text/plain": [
       "months_since_policy_inception\n",
       "59    168\n",
       "61    151\n",
       "50    151\n",
       "10    138\n",
       "3     136\n",
       "     ... \n",
       "16     81\n",
       "96     80\n",
       "82     71\n",
       "98     64\n",
       "97     59\n",
       "Name: count, Length: 100, dtype: int64"
      ]
     },
     "metadata": {},
     "output_type": "display_data"
    },
    {
     "data": {
      "text/plain": [
       "number_of_open_complaints\n",
       "0.000000    8160\n",
       "1.000000    1145\n",
       "0.384256     633\n",
       "2.000000     414\n",
       "3.000000     324\n",
       "4.000000     166\n",
       "5.000000      68\n",
       "Name: count, dtype: int64"
      ]
     },
     "metadata": {},
     "output_type": "display_data"
    },
    {
     "data": {
      "text/plain": [
       "number_of_policies\n",
       "1    3864\n",
       "2    2748\n",
       "3    1380\n",
       "7     532\n",
       "9     505\n",
       "5     498\n",
       "4     488\n",
       "8     461\n",
       "6     434\n",
       "Name: count, dtype: int64"
      ]
     },
     "metadata": {},
     "output_type": "display_data"
    },
    {
     "data": {
      "text/plain": [
       "policy_type\n",
       "Personal Auto     8128\n",
       "Corporate Auto    2341\n",
       "Special Auto       441\n",
       "Name: count, dtype: int64"
      ]
     },
     "metadata": {},
     "output_type": "display_data"
    },
    {
     "data": {
      "text/plain": [
       "policy\n",
       "Personal L3     4118\n",
       "Personal L2     2537\n",
       "Personal L1     1473\n",
       "Corporate L3    1221\n",
       "Corporate L2     688\n",
       "Corporate L1     432\n",
       "Special L2       193\n",
       "Special L3       170\n",
       "Special L1        78\n",
       "Name: count, dtype: int64"
      ]
     },
     "metadata": {},
     "output_type": "display_data"
    },
    {
     "data": {
      "text/plain": [
       "renew_offer_type\n",
       "Offer1    4483\n",
       "Offer2    3490\n",
       "Offer3    1732\n",
       "Offer4    1205\n",
       "Name: count, dtype: int64"
      ]
     },
     "metadata": {},
     "output_type": "display_data"
    },
    {
     "data": {
      "text/plain": [
       "sales_channel\n",
       "Agent          4121\n",
       "Branch         3022\n",
       "Call Center    2141\n",
       "Web            1626\n",
       "Name: count, dtype: int64"
      ]
     },
     "metadata": {},
     "output_type": "display_data"
    },
    {
     "data": {
      "text/plain": [
       "total_claim_amount\n",
       "316.800000    139\n",
       "292.800000    136\n",
       "312.000000    132\n",
       "350.400000    129\n",
       "331.200000    119\n",
       "             ... \n",
       "137.168874      1\n",
       "487.345606      1\n",
       "45.152521       1\n",
       "402.749918      1\n",
       "618.288849      1\n",
       "Name: count, Length: 5106, dtype: int64"
      ]
     },
     "metadata": {},
     "output_type": "display_data"
    },
    {
     "data": {
      "text/plain": [
       "vehicle_class\n",
       "Four-Door Car    5834\n",
       "Two-Door Car     2118\n",
       "SUV              2012\n",
       "Sports Car        550\n",
       "Luxury SUV        208\n",
       "Luxury Car        188\n",
       "Name: count, dtype: int64"
      ]
     },
     "metadata": {},
     "output_type": "display_data"
    },
    {
     "data": {
      "text/plain": [
       "vehicle_size\n",
       "Medsize    7873\n",
       "Small      1966\n",
       "Large      1071\n",
       "Name: count, dtype: int64"
      ]
     },
     "metadata": {},
     "output_type": "display_data"
    },
    {
     "data": {
      "text/plain": [
       "vehicle_type\n",
       "A    10910\n",
       "Name: count, dtype: int64"
      ]
     },
     "metadata": {},
     "output_type": "display_data"
    },
    {
     "data": {
      "text/plain": [
       "month\n",
       "1    5818\n",
       "2    5092\n",
       "Name: count, dtype: int64"
      ]
     },
     "metadata": {},
     "output_type": "display_data"
    },
    {
     "data": {
      "text/plain": [
       "443"
      ]
     },
     "metadata": {},
     "output_type": "display_data"
    },
    {
     "data": {
      "text/plain": [
       "0"
      ]
     },
     "metadata": {},
     "output_type": "display_data"
    }
   ],
   "source": [
    "marketing_df= pd.read_csv('https://raw.githubusercontent.com/data-bootcamp-v4/data/main/marketing_customer_analysis_clean.csv')\n",
    "\n",
    "for i in marketing_df.columns: \n",
    "    display(marketing_df[i].value_counts())  #displaying the value counts for each column to check if anything needs to be cleaned\n",
    "\n",
    "marketing_df= marketing_df.drop(columns=['unnamed:_0'])  #dropping the unnamed column\n",
    "display(marketing_df.duplicated().sum()) #checking  for duplicated values\n",
    "marketing_df= functions.remove_full_nulls(marketing_df) #removing nan rows\n",
    "marketing_df= functions.duplicate_checking(marketing_df)  #removing duplicated rows\n",
    "display(marketing_df.duplicated().sum())  #there are no remaining duplicates\n"
   ]
  },
  {
   "cell_type": "markdown",
   "id": "df35fd0d-513e-4e77-867e-429da10a9cc7",
   "metadata": {
    "id": "df35fd0d-513e-4e77-867e-429da10a9cc7"
   },
   "source": [
    "1. You work at the marketing department and you want to know which sales channel brought the most sales in terms of total revenue. Using pivot, create a summary table showing the total revenue for each sales channel (branch, call center, web, and mail).\n",
    "Round the total revenue to 2 decimal points.  Analyze the resulting table to draw insights."
   ]
  },
  {
   "cell_type": "markdown",
   "id": "640993b2-a291-436c-a34d-a551144f8196",
   "metadata": {
    "id": "640993b2-a291-436c-a34d-a551144f8196"
   },
   "source": [
    "2. Create a pivot table that shows the average customer lifetime value per gender and education level. Analyze the resulting table to draw insights."
   ]
  },
  {
   "cell_type": "code",
   "execution_count": 8,
   "id": "5737c075",
   "metadata": {},
   "outputs": [
    {
     "data": {
      "text/html": [
       "<div>\n",
       "<style scoped>\n",
       "    .dataframe tbody tr th:only-of-type {\n",
       "        vertical-align: middle;\n",
       "    }\n",
       "\n",
       "    .dataframe tbody tr th {\n",
       "        vertical-align: top;\n",
       "    }\n",
       "\n",
       "    .dataframe thead th {\n",
       "        text-align: right;\n",
       "    }\n",
       "</style>\n",
       "<table border=\"1\" class=\"dataframe\">\n",
       "  <thead>\n",
       "    <tr style=\"text-align: right;\">\n",
       "      <th></th>\n",
       "      <th>Sales channel</th>\n",
       "      <th>Total Revenue</th>\n",
       "    </tr>\n",
       "  </thead>\n",
       "  <tbody>\n",
       "    <tr>\n",
       "      <th>0</th>\n",
       "      <td>Agent</td>\n",
       "      <td>31822870.96</td>\n",
       "    </tr>\n",
       "    <tr>\n",
       "      <th>1</th>\n",
       "      <td>Branch</td>\n",
       "      <td>23545858.75</td>\n",
       "    </tr>\n",
       "    <tr>\n",
       "      <th>2</th>\n",
       "      <td>Call Center</td>\n",
       "      <td>16550431.05</td>\n",
       "    </tr>\n",
       "    <tr>\n",
       "      <th>3</th>\n",
       "      <td>Web</td>\n",
       "      <td>12118527.39</td>\n",
       "    </tr>\n",
       "  </tbody>\n",
       "</table>\n",
       "</div>"
      ],
      "text/plain": [
       "  Sales channel  Total Revenue\n",
       "0         Agent    31822870.96\n",
       "1        Branch    23545858.75\n",
       "2   Call Center    16550431.05\n",
       "3           Web    12118527.39"
      ]
     },
     "metadata": {},
     "output_type": "display_data"
    },
    {
     "data": {
      "text/html": [
       "<div>\n",
       "<style scoped>\n",
       "    .dataframe tbody tr th:only-of-type {\n",
       "        vertical-align: middle;\n",
       "    }\n",
       "\n",
       "    .dataframe tbody tr th {\n",
       "        vertical-align: top;\n",
       "    }\n",
       "\n",
       "    .dataframe thead tr th {\n",
       "        text-align: left;\n",
       "    }\n",
       "</style>\n",
       "<table border=\"1\" class=\"dataframe\">\n",
       "  <thead>\n",
       "    <tr>\n",
       "      <th></th>\n",
       "      <th>gender</th>\n",
       "      <th>education</th>\n",
       "      <th>mean</th>\n",
       "    </tr>\n",
       "    <tr>\n",
       "      <th></th>\n",
       "      <th></th>\n",
       "      <th></th>\n",
       "      <th>customer_lifetime_value</th>\n",
       "    </tr>\n",
       "  </thead>\n",
       "  <tbody>\n",
       "    <tr>\n",
       "      <th>0</th>\n",
       "      <td>F</td>\n",
       "      <td>Bachelor</td>\n",
       "      <td>7913.452862</td>\n",
       "    </tr>\n",
       "    <tr>\n",
       "      <th>1</th>\n",
       "      <td>F</td>\n",
       "      <td>College</td>\n",
       "      <td>7755.029922</td>\n",
       "    </tr>\n",
       "    <tr>\n",
       "      <th>2</th>\n",
       "      <td>F</td>\n",
       "      <td>Doctor</td>\n",
       "      <td>7369.591923</td>\n",
       "    </tr>\n",
       "    <tr>\n",
       "      <th>3</th>\n",
       "      <td>F</td>\n",
       "      <td>High School or Below</td>\n",
       "      <td>8616.664839</td>\n",
       "    </tr>\n",
       "    <tr>\n",
       "      <th>4</th>\n",
       "      <td>F</td>\n",
       "      <td>Master</td>\n",
       "      <td>8226.362324</td>\n",
       "    </tr>\n",
       "    <tr>\n",
       "      <th>5</th>\n",
       "      <td>M</td>\n",
       "      <td>Bachelor</td>\n",
       "      <td>7713.303475</td>\n",
       "    </tr>\n",
       "    <tr>\n",
       "      <th>6</th>\n",
       "      <td>M</td>\n",
       "      <td>College</td>\n",
       "      <td>8086.291367</td>\n",
       "    </tr>\n",
       "    <tr>\n",
       "      <th>7</th>\n",
       "      <td>M</td>\n",
       "      <td>Doctor</td>\n",
       "      <td>7414.859039</td>\n",
       "    </tr>\n",
       "    <tr>\n",
       "      <th>8</th>\n",
       "      <td>M</td>\n",
       "      <td>High School or Below</td>\n",
       "      <td>8162.364059</td>\n",
       "    </tr>\n",
       "    <tr>\n",
       "      <th>9</th>\n",
       "      <td>M</td>\n",
       "      <td>Master</td>\n",
       "      <td>8154.605652</td>\n",
       "    </tr>\n",
       "  </tbody>\n",
       "</table>\n",
       "</div>"
      ],
      "text/plain": [
       "  gender             education                    mean\n",
       "                               customer_lifetime_value\n",
       "0      F              Bachelor             7913.452862\n",
       "1      F               College             7755.029922\n",
       "2      F                Doctor             7369.591923\n",
       "3      F  High School or Below             8616.664839\n",
       "4      F                Master             8226.362324\n",
       "5      M              Bachelor             7713.303475\n",
       "6      M               College             8086.291367\n",
       "7      M                Doctor             7414.859039\n",
       "8      M  High School or Below             8162.364059\n",
       "9      M                Master             8154.605652"
      ]
     },
     "metadata": {},
     "output_type": "display_data"
    }
   ],
   "source": [
    "piv= marketing_df.pivot_table(index=['sales_channel'], values= ['customer_lifetime_value'], aggfunc=['sum'])\n",
    "piv=piv.reset_index()\n",
    "piv.columns=['Sales channel', 'Total Revenue']\n",
    "piv['Total Revenue']= piv['Total Revenue'].round(2)\n",
    "display(piv)\n",
    "\n",
    "#It appears that the sales channel brought the most sales in terms of total revenue\n",
    "\n",
    "\n",
    "\n",
    "piv2= marketing_df.pivot_table(index=['gender', 'education'], values=['customer_lifetime_value'], aggfunc =['mean'])\n",
    "piv2=piv2.reset_index()\n",
    "display(piv2)"
   ]
  },
  {
   "cell_type": "markdown",
   "id": "32c7f2e5-3d90-43e5-be33-9781b6069198",
   "metadata": {
    "id": "32c7f2e5-3d90-43e5-be33-9781b6069198"
   },
   "source": [
    "## Bonus\n",
    "\n",
    "You work at the customer service department and you want to know which months had the highest number of complaints by policy type category. Create a summary table showing the number of complaints by policy type and month.\n",
    "Show it in a long format table."
   ]
  },
  {
   "cell_type": "markdown",
   "id": "e3d09a8f-953c-448a-a5f8-2e5a8cca7291",
   "metadata": {
    "id": "e3d09a8f-953c-448a-a5f8-2e5a8cca7291"
   },
   "source": [
    "*In data analysis, a long format table is a way of structuring data in which each observation or measurement is stored in a separate row of the table. The key characteristic of a long format table is that each column represents a single variable, and each row represents a single observation of that variable.*\n",
    "\n",
    "*More information about long and wide format tables here: https://www.statology.org/long-vs-wide-data/*"
   ]
  },
  {
   "cell_type": "code",
   "execution_count": 4,
   "id": "3a069e0b-b400-470e-904d-d17582191be4",
   "metadata": {
    "id": "3a069e0b-b400-470e-904d-d17582191be4"
   },
   "outputs": [
    {
     "data": {
      "text/html": [
       "<div>\n",
       "<style scoped>\n",
       "    .dataframe tbody tr th:only-of-type {\n",
       "        vertical-align: middle;\n",
       "    }\n",
       "\n",
       "    .dataframe tbody tr th {\n",
       "        vertical-align: top;\n",
       "    }\n",
       "\n",
       "    .dataframe thead th {\n",
       "        text-align: right;\n",
       "    }\n",
       "</style>\n",
       "<table border=\"1\" class=\"dataframe\">\n",
       "  <thead>\n",
       "    <tr style=\"text-align: right;\">\n",
       "      <th></th>\n",
       "      <th>policy_type</th>\n",
       "      <th>month</th>\n",
       "      <th>variable_0</th>\n",
       "      <th>variable_1</th>\n",
       "      <th>value</th>\n",
       "    </tr>\n",
       "  </thead>\n",
       "  <tbody>\n",
       "    <tr>\n",
       "      <th>0</th>\n",
       "      <td>Corporate Auto</td>\n",
       "      <td>1</td>\n",
       "      <td>count</td>\n",
       "      <td>number_of_open_complaints</td>\n",
       "      <td>1197</td>\n",
       "    </tr>\n",
       "    <tr>\n",
       "      <th>1</th>\n",
       "      <td>Corporate Auto</td>\n",
       "      <td>2</td>\n",
       "      <td>count</td>\n",
       "      <td>number_of_open_complaints</td>\n",
       "      <td>1044</td>\n",
       "    </tr>\n",
       "    <tr>\n",
       "      <th>2</th>\n",
       "      <td>Personal Auto</td>\n",
       "      <td>1</td>\n",
       "      <td>count</td>\n",
       "      <td>number_of_open_complaints</td>\n",
       "      <td>4166</td>\n",
       "    </tr>\n",
       "    <tr>\n",
       "      <th>3</th>\n",
       "      <td>Personal Auto</td>\n",
       "      <td>2</td>\n",
       "      <td>count</td>\n",
       "      <td>number_of_open_complaints</td>\n",
       "      <td>3638</td>\n",
       "    </tr>\n",
       "    <tr>\n",
       "      <th>4</th>\n",
       "      <td>Special Auto</td>\n",
       "      <td>1</td>\n",
       "      <td>count</td>\n",
       "      <td>number_of_open_complaints</td>\n",
       "      <td>227</td>\n",
       "    </tr>\n",
       "    <tr>\n",
       "      <th>5</th>\n",
       "      <td>Special Auto</td>\n",
       "      <td>2</td>\n",
       "      <td>count</td>\n",
       "      <td>number_of_open_complaints</td>\n",
       "      <td>195</td>\n",
       "    </tr>\n",
       "  </tbody>\n",
       "</table>\n",
       "</div>"
      ],
      "text/plain": [
       "      policy_type  month variable_0                 variable_1  value\n",
       "0  Corporate Auto      1      count  number_of_open_complaints   1197\n",
       "1  Corporate Auto      2      count  number_of_open_complaints   1044\n",
       "2   Personal Auto      1      count  number_of_open_complaints   4166\n",
       "3   Personal Auto      2      count  number_of_open_complaints   3638\n",
       "4    Special Auto      1      count  number_of_open_complaints    227\n",
       "5    Special Auto      2      count  number_of_open_complaints    195"
      ]
     },
     "metadata": {},
     "output_type": "display_data"
    }
   ],
   "source": [
    "piv3= marketing_df.pivot_table(index=['policy_type' , 'month'], values=['number_of_open_complaints'], aggfunc = ['count'])\n",
    "piv3=piv3.reset_index()\n",
    "verticalized = pd.melt(piv3,id_vars=['policy_type','month'])\n",
    "display(verticalized)"
   ]
  }
 ],
 "metadata": {
  "colab": {
   "provenance": []
  },
  "kernelspec": {
   "display_name": "Python 3 (ipykernel)",
   "language": "python",
   "name": "python3"
  },
  "language_info": {
   "codemirror_mode": {
    "name": "ipython",
    "version": 3
   },
   "file_extension": ".py",
   "mimetype": "text/x-python",
   "name": "python",
   "nbconvert_exporter": "python",
   "pygments_lexer": "ipython3",
   "version": "3.11.5"
  }
 },
 "nbformat": 4,
 "nbformat_minor": 5
}
